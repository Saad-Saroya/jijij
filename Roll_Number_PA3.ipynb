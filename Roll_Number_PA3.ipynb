{
  "cells": [
    {
      "cell_type": "markdown",
      "metadata": {
        "id": "IUBveC__5Rmx"
      },
      "source": [
        "# Programming Assignment 3\n",
        "# K-Means Clustering"
      ]
    },
    {
      "cell_type": "markdown",
      "source": [
        "Run each cell showing the result to get the full marks."
      ],
      "metadata": {
        "id": "eeNu9zhyl6rB"
      }
    },
    {
      "cell_type": "markdown",
      "metadata": {
        "id": "xmAV1lQU5Rm6"
      },
      "source": [
        "K-means clustering is a method which aims to partition n observations into k clusters in which each observation belongs to the cluster with the nearest mean.\n",
        "\n",
        "In this question you will use K-Means clustering for 3 different examples\n",
        "\n",
        "1. Implementing k-means clustering on a randomly generated dataset from scratch.\n",
        "2. Implementing k-means using the SK-Learn library for stock price movements and customer shopping."
      ]
    },
    {
      "cell_type": "markdown",
      "metadata": {
        "id": "QqLlkAii5Rm0"
      },
      "source": [
        "## Importing Libraries"
      ]
    },
    {
      "cell_type": "code",
      "execution_count": null,
      "metadata": {
        "id": "48hjMYyK5Rm3"
      },
      "outputs": [],
      "source": [
        "from copy import deepcopy\n",
        "import numpy as np\n",
        "import pandas as pd\n",
        "import random\n",
        "import math\n",
        "from matplotlib import pyplot as plt"
      ]
    },
    {
      "cell_type": "code",
      "execution_count": null,
      "metadata": {
        "id": "vAdE_RUf5Rm9"
      },
      "outputs": [],
      "source": [
        "## Don't change this cell\n",
        "plt.rcParams['figure.figsize'] = (16, 9)\n",
        "plt.style.use('ggplot')"
      ]
    },
    {
      "cell_type": "markdown",
      "metadata": {
        "id": "m9cQNN0u5Rm-"
      },
      "source": [
        "## Part-1: Implement K-mean from Scratch (70 marks)\n",
        "\n",
        "Some of the brief description of algorithm is as follows:\n",
        "\n",
        "\n",
        "1.   Place K centroids at random locations.\n",
        "2.   Assign all the data points to the closest centroid.\n",
        "3.  Compute the new centroids as the mean of all points in the cluster\n",
        "4.   Compute the Sum of Squared errors between new and old centroids\n"
      ]
    },
    {
      "cell_type": "markdown",
      "metadata": {
        "id": "LHu_ms2e5Rm_"
      },
      "source": [
        "#### Task\n",
        "Import Dataset `mydataset.csv` and output shape along with first 5 rows"
      ]
    },
    {
      "cell_type": "code",
      "execution_count": null,
      "metadata": {
        "id": "sfop8vbo5RnB"
      },
      "outputs": [],
      "source": [
        "# Importing the dataset\n"
      ]
    },
    {
      "cell_type": "markdown",
      "source": [
        "#### Task\n",
        "\n",
        "Extract first column in x variable and second column in y variable"
      ],
      "metadata": {
        "id": "gRLdpk6fH6lm"
      }
    },
    {
      "cell_type": "code",
      "execution_count": null,
      "metadata": {
        "id": "zXbzECyzFXBw"
      },
      "outputs": [],
      "source": [
        "# Your code goes here...\n",
        "x = ....\n",
        "y = ....\n"
      ]
    },
    {
      "cell_type": "markdown",
      "source": [
        "Run the below cell to visualize the dataset"
      ],
      "metadata": {
        "id": "_Dt9q54kYTE_"
      }
    },
    {
      "cell_type": "code",
      "execution_count": null,
      "metadata": {
        "id": "IUySbXy65RnC"
      },
      "outputs": [],
      "source": [
        "X = np.array(list(zip(x, y)))\n",
        "plt.scatter(x, y, c='black', s=20)"
      ]
    },
    {
      "cell_type": "markdown",
      "source": [
        "#### Task\n",
        "Calculate the Euclidean distance"
      ],
      "metadata": {
        "id": "5cnaidG3bLVK"
      }
    },
    {
      "cell_type": "code",
      "execution_count": null,
      "metadata": {
        "id": "1scCRmuk5RnF"
      },
      "outputs": [],
      "source": [
        "# Your code goes here\n",
        "def euclidean(x, y, ax=1):\n",
        "  pass"
      ]
    },
    {
      "cell_type": "markdown",
      "metadata": {
        "id": "zR1Y0nZu5RnH"
      },
      "source": [
        "#### Task\n",
        "\n",
        "Generate k random centroids for x and y coordinates with the range of  [0-maximum value in the column]"
      ]
    },
    {
      "cell_type": "code",
      "source": [
        "# Number of clusters\n",
        "k=3\n",
        "\n",
        "# X coordinates of random centroids\n",
        "C_x = []\n",
        "    ## your code goes here\n",
        "\n",
        "# Y coordinates of random centroids\n",
        "C_y = []\n",
        "    ## your code goes here\n",
        "\n",
        "C = np.array(list(zip(C_x, C_y)), dtype=np.float32)\n",
        "print(\"Initial Centroids\")\n",
        "print(C)"
      ],
      "metadata": {
        "id": "lmIqaH23Mgr8"
      },
      "execution_count": null,
      "outputs": []
    },
    {
      "cell_type": "markdown",
      "source": [
        "\n",
        "visualize the dataset along with the centroids using scatter plot"
      ],
      "metadata": {
        "id": "xOFfsfmQM4bK"
      }
    },
    {
      "cell_type": "code",
      "execution_count": null,
      "metadata": {
        "id": "1kPSHrER5RnJ"
      },
      "outputs": [],
      "source": [
        "# Plotting along with the Centroids\n",
        "plt.scatter(x, y, c='#050505', s=20)\n",
        "plt.scatter(C_x, C_y, marker='*', s=200, c='b')"
      ]
    },
    {
      "cell_type": "markdown",
      "metadata": {
        "id": "LeIZmWDQHYMh"
      },
      "source": [
        "#### Task\n",
        "\n",
        "compute error between old centroids and new centroids and return the error"
      ]
    },
    {
      "cell_type": "code",
      "execution_count": null,
      "metadata": {
        "id": "QDrjU9pvHbYY"
      },
      "outputs": [],
      "source": [
        "def computeError(old_centers, new_centers):\n",
        "  ### your code goes here...\n",
        "\n",
        "  pass"
      ]
    },
    {
      "cell_type": "markdown",
      "source": [
        "#### Task\n",
        "\n",
        "In the function `assign_members` you will take all points of the dataset along with the centroids as parameters and will assign the points to the clusters according to their centroids. Return cluster arrays having their corresponding data points.\n"
      ],
      "metadata": {
        "id": "uzPQ1uB0X7MB"
      }
    },
    {
      "cell_type": "code",
      "source": [
        "def assign_members(points, centroids):\n",
        "    c1 = [] ## cluster 1 containing all points that belong to it\n",
        "    c2 = [] ## cluster 2 containing all points that belong to it\n",
        "    c3 = [] ## cluster 3 containing all points that belong to it\n",
        "    #Your code goes here\n",
        "\n",
        "\n",
        "    return c1,c2,c3"
      ],
      "metadata": {
        "id": "yAtNx0HUYIsV"
      },
      "execution_count": null,
      "outputs": []
    },
    {
      "cell_type": "markdown",
      "source": [
        "#### Task\n",
        "\n",
        "Define a function that updates the centroid of each cluster. Return updated centroids\n"
      ],
      "metadata": {
        "id": "DIwJtmM5ZMgC"
      }
    },
    {
      "cell_type": "code",
      "source": [
        "def update_centroids(cluster1, cluster2, cluster3):\n",
        "    # Your code goes here\n",
        "    pass"
      ],
      "metadata": {
        "id": "GAT1023cZM1W"
      },
      "execution_count": null,
      "outputs": []
    },
    {
      "cell_type": "markdown",
      "source": [
        "#### Task\n",
        "\n",
        "Implement K-Mean algorithm from scratch. You cannot use any built in libraries for this part"
      ],
      "metadata": {
        "id": "1WuqkF-BVwWZ"
      }
    },
    {
      "cell_type": "code",
      "source": [
        "# Initizie old_centroids which will store the value of centroids when it updates\n",
        "old_centroids =...\n",
        "# Intitialize Cluster Lables\n",
        "cluster_labels =...\n",
        "# Error func. - Distance between new centroids and old centroids\n",
        "error = ...\n",
        "# Loop will run till the error becomes zero\n",
        "while error != 0:\n",
        "    # Assign each data point to its closest cluster\n",
        "\n",
        "    # Store the centroid values in old centroids\n",
        "\n",
        "    # Find the new centroids by taking the average value\n",
        "\n",
        "    # compute error\n",
        "\n",
        "colors = ['r', 'g', 'b', 'y', 'c', 'm']\n",
        "fig, ax = plt.subplots()\n",
        "for i in range(k):\n",
        "        points = np.array([X[j] for j in range(len(X)) if cluster_labels[j] == i])\n",
        "        ax.scatter(points[:, 0], points[:, 1], s=7, c=colors[i])\n",
        "ax.scatter(C[:, 0], C[:, 1], marker='*', s=200, c='#050505')\n",
        "\n"
      ],
      "metadata": {
        "id": "u3SXL3BtozwR"
      },
      "execution_count": null,
      "outputs": []
    },
    {
      "cell_type": "markdown",
      "metadata": {
        "id": "zfJLE32l5RnM"
      },
      "source": [
        "## Part 2-SKLEARN K-Mean using Elbow Method (30 marks)\n",
        "Now we will use `employee dataset` to find clusters from it using the elbow method.\n",
        "In a K-means clustering, the elbow approach is a graphical representation of selecting the best \"K.\"\n",
        "It works by finding WCSS (Within-Cluster Sum of Square) i.e. the sum of the square distance between points in a cluster and the cluster centroid.\n",
        "\n",
        "In this part, You must draw an elbow graph where the values of the WCSS (on the y-axis) correspond to the various values of K (on the x-axis).\n",
        "We choose the K-value at which the elbow is generated when we notice an elbow shape on the graph.This area is known as the elbow point.\n",
        " Beyond the Elbow point, increasing the value of ‘K’ does not lead to a significant reduction in WCSS.\n",
        "Therefore, we would select the optimal cluster value \"K\" at the elbow point."
      ]
    },
    {
      "cell_type": "code",
      "source": [
        "## importing library\n",
        "from sklearn.cluster import KMeans"
      ],
      "metadata": {
        "id": "1bGauric-PBa"
      },
      "execution_count": null,
      "outputs": []
    },
    {
      "cell_type": "markdown",
      "metadata": {
        "id": "fU3MfKcr5RnO"
      },
      "source": [
        "#### Task\n",
        "Import Employee dataset and print the first ten rows of it.\n"
      ]
    },
    {
      "cell_type": "code",
      "execution_count": null,
      "metadata": {
        "id": "00513Huq5RnO"
      },
      "outputs": [],
      "source": [
        "# your code goes here\n",
        "dataset = ....."
      ]
    },
    {
      "cell_type": "markdown",
      "source": [
        "#### Task\n",
        "\n",
        "Print the null values in the dataset if there are any."
      ],
      "metadata": {
        "id": "MIYcfWPNcw8j"
      }
    },
    {
      "cell_type": "code",
      "source": [
        "### your code goes here"
      ],
      "metadata": {
        "id": "hI3w7ZEtc0qu"
      },
      "execution_count": null,
      "outputs": []
    },
    {
      "cell_type": "markdown",
      "source": [
        "#### Task\n",
        "Extract \"Income\" and \"Expenditure Score\" columns from the dataset"
      ],
      "metadata": {
        "id": "5R4vYv4c-daB"
      }
    },
    {
      "cell_type": "code",
      "source": [
        "X = ...."
      ],
      "metadata": {
        "id": "PSovwfRW-sIh"
      },
      "execution_count": null,
      "outputs": []
    },
    {
      "cell_type": "markdown",
      "source": [
        "Visualize the dataset"
      ],
      "metadata": {
        "id": "fWBWeAfm4I0Z"
      }
    },
    {
      "cell_type": "code",
      "source": [
        "### run this cell to visualize the dataset\n",
        "\n",
        "plt.scatter(X[:,0], X[:,1], c='black', s=25)"
      ],
      "metadata": {
        "id": "BrjR5q8e4L3U"
      },
      "execution_count": null,
      "outputs": []
    },
    {
      "cell_type": "markdown",
      "metadata": {
        "id": "U_x1k3MQ5RnP"
      },
      "source": [
        "#### Task\n",
        "Use Elbow Method to find optimal number of clusters and draw a line plot showing k values on x axis and wcss values on the y-axis.\n",
        "Use the following parameters:\n",
        "1. random_state = 0\n",
        "2. max_iter = 300\n",
        "3. n_init = 10\n",
        "\n",
        "Iterate for k = 1....10 (10 values for k)\n",
        "\n",
        "Write the code for elbow method using `KMeans` from sklearn(already imported above):"
      ]
    },
    {
      "cell_type": "code",
      "execution_count": null,
      "metadata": {
        "id": "n8UkCTfn5RnQ"
      },
      "outputs": [],
      "source": [
        "wcss = [] ### for storing wcss number\n",
        "\n",
        "## your code goes here\n",
        "\n",
        "# Hint: intertia_ is an attribute that has the wcss number\n",
        "\n"
      ]
    },
    {
      "cell_type": "markdown",
      "source": [
        "#### Task\n",
        "\n",
        "Plot the line graph showing k values on x axis and wcss values on the y-axis"
      ],
      "metadata": {
        "id": "Ga_T7DP_RQA_"
      }
    },
    {
      "cell_type": "code",
      "source": [
        "### your code goes here...\n"
      ],
      "metadata": {
        "id": "2Vpx9g4oQ_3P"
      },
      "execution_count": null,
      "outputs": []
    },
    {
      "cell_type": "markdown",
      "source": [
        "#### Task\n",
        "\n",
        "Now apply the K means using the optimized value of K found above and predict labels for the clusters. Use the same parameters as defined above."
      ],
      "metadata": {
        "id": "p7BcGQ6AFqqq"
      }
    },
    {
      "cell_type": "code",
      "source": [
        "# your code goes here....\n",
        "\n",
        "kmeans = ....\n",
        "labels = ....\n"
      ],
      "metadata": {
        "id": "Ma87r-wOF2zg"
      },
      "execution_count": null,
      "outputs": []
    },
    {
      "cell_type": "markdown",
      "source": [
        "### Task\n",
        "\n",
        "Using the labels found above , draw a scatter plot which shows the cluster points and centroids. Use different colors for different clusters. (as done in part 1)"
      ],
      "metadata": {
        "id": "gOg945zD3LXw"
      }
    },
    {
      "cell_type": "code",
      "execution_count": null,
      "metadata": {
        "id": "HgUF2MOG5RnU"
      },
      "outputs": [],
      "source": [
        "\n",
        "\n",
        "## some sample code is provided\n",
        "plt.scatter(X[labels == 0, 0], X[labels == 0, 1], s = 50, c = 'red', label = 'Employee 1')\n",
        "\n",
        "### your code goes here ....\n",
        "\n",
        "\n",
        "\n",
        "plt.xlabel('Income')\n",
        "plt.ylabel('Expenditure Score')\n",
        "plt.show()"
      ]
    }
  ],
  "metadata": {
    "colab": {
      "provenance": []
    },
    "kernelspec": {
      "display_name": "Python 3",
      "language": "python",
      "name": "python3"
    },
    "language_info": {
      "codemirror_mode": {
        "name": "ipython",
        "version": 3
      },
      "file_extension": ".py",
      "mimetype": "text/x-python",
      "name": "python",
      "nbconvert_exporter": "python",
      "pygments_lexer": "ipython3",
      "version": "3.7.4"
    }
  },
  "nbformat": 4,
  "nbformat_minor": 0
}